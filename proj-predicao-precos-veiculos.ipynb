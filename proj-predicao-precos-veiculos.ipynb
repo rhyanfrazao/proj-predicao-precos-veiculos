{
 "cells": [
  {
   "cell_type": "markdown",
   "id": "57cc32d0-ab21-4f88-bd15-48ba9174fc38",
   "metadata": {},
   "source": [
    "# Predição de Preços\n",
    "\n",
    "Nesse projeto iremos predizer o preço de veículos com base em suas características (features). Utilizaremos algoritmos de regressão para encontrar o melhor modelo preditivo.\n",
    "\n",
    "A base de dados será retirada do Kaggle.\n",
    "\n",
    "O intuito é criar uma aplicação para uma loja de veículos. Além da intuição e pesquisa de mercado, é importante para os vendedores terem uma ferramenta automatizada de predição para terem um indicador confiável de qual preço devem vender os veículos."
   ]
  },
  {
   "cell_type": "code",
   "execution_count": 4,
   "id": "58953666-d2dc-46f4-a7f5-06aa73402266",
   "metadata": {},
   "outputs": [],
   "source": [
    "# Importando os pacotes necessários para manipulação e visualização de dados:\n",
    "import pandas as pd\n",
    "from matplotlib import pyplot as plt\n",
    "import seaborn as sns"
   ]
  },
  {
   "cell_type": "code",
   "execution_count": 6,
   "id": "c135770d-2b22-4b5b-84dd-7e47a956a292",
   "metadata": {},
   "outputs": [],
   "source": [
    "# Importanto tudo o necessário dentro do pacote scikit-learn:\n",
    "from sklearn.model_selection import train_test_split\n",
    "from sklearn.preprocessing import OneHotEncoder\n",
    "from sklearn.linear_model import LinearRegression\n",
    "from sklearn.linear_model import Lasso\n",
    "from sklearn.ensemble import RandomForestClassifier\n",
    "from sklearn.model_selection import cross_val_score\n",
    "from sklearn.metrics import r2_score"
   ]
  },
  {
   "cell_type": "code",
   "execution_count": null,
   "id": "3468bc18-c2be-4edc-a8c9-bf0052497723",
   "metadata": {},
   "outputs": [],
   "source": []
  },
  {
   "cell_type": "code",
   "execution_count": null,
   "id": "14d6d2cb-654a-45cd-8e6a-8ebefcbfdb5c",
   "metadata": {},
   "outputs": [],
   "source": []
  },
  {
   "cell_type": "code",
   "execution_count": null,
   "id": "ac00588a-a9c2-4bfb-89a5-082b167835c8",
   "metadata": {},
   "outputs": [],
   "source": []
  },
  {
   "cell_type": "code",
   "execution_count": null,
   "id": "ba549ad8-0205-4514-8ff5-152f10259f25",
   "metadata": {},
   "outputs": [],
   "source": []
  },
  {
   "cell_type": "code",
   "execution_count": null,
   "id": "8d649a1f-7dc0-4d2f-86c3-c9889418c3be",
   "metadata": {},
   "outputs": [],
   "source": []
  },
  {
   "cell_type": "code",
   "execution_count": null,
   "id": "7a4cd08a-b702-4964-84ca-6ec948e49816",
   "metadata": {},
   "outputs": [],
   "source": []
  },
  {
   "cell_type": "code",
   "execution_count": null,
   "id": "adbfb11d-93ce-4156-9e48-ddf9fbac24f6",
   "metadata": {},
   "outputs": [],
   "source": []
  },
  {
   "cell_type": "code",
   "execution_count": null,
   "id": "f46c2494-165e-44f7-8d71-52fc7f78c8de",
   "metadata": {},
   "outputs": [],
   "source": []
  }
 ],
 "metadata": {
  "kernelspec": {
   "display_name": "Python 3 (ipykernel)",
   "language": "python",
   "name": "python3"
  },
  "language_info": {
   "codemirror_mode": {
    "name": "ipython",
    "version": 3
   },
   "file_extension": ".py",
   "mimetype": "text/x-python",
   "name": "python",
   "nbconvert_exporter": "python",
   "pygments_lexer": "ipython3",
   "version": "3.12.4"
  }
 },
 "nbformat": 4,
 "nbformat_minor": 5
}
